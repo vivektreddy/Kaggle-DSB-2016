{
 "cells": [
  {
   "cell_type": "code",
   "execution_count": null,
   "metadata": {},
   "outputs": [],
   "source": [
    "%reset"
   ]
  },
  {
   "cell_type": "code",
   "execution_count": 2,
   "metadata": {},
   "outputs": [
    {
     "name": "stdout",
     "output_type": "stream",
     "text": [
      "/home/vivek/Downloads/kaggle_ndsb2-master/data_segmenter_trainset\n"
     ]
    },
    {
     "name": "stderr",
     "output_type": "stream",
     "text": [
      "/home/vivek/anaconda3/lib/python3.6/importlib/_bootstrap.py:219: RuntimeWarning: numpy.dtype size changed, may indicate binary incompatibility. Expected 96, got 88\n",
      "  return f(*args, **kwds)\n",
      "/home/vivek/anaconda3/lib/python3.6/importlib/_bootstrap.py:219: RuntimeWarning: numpy.dtype size changed, may indicate binary incompatibility. Expected 96, got 88\n",
      "  return f(*args, **kwds)\n"
     ]
    }
   ],
   "source": [
    "import os\n",
    "import numpy as np\n",
    "import pandas as pd\n",
    "\n",
    "os.chdir('/home/vivek/Downloads/kaggle_ndsb2-master/data_segmenter_trainset')\n",
    "print(os.getcwd())"
   ]
  },
  {
   "cell_type": "code",
   "execution_count": 3,
   "metadata": {},
   "outputs": [
    {
     "name": "stdout",
     "output_type": "stream",
     "text": [
      "<class 'str'>\n"
     ]
    }
   ],
   "source": [
    "path = os.listdir()\n",
    "#gives us the matching annotated images with their masks in a dataframe.  just the strings\n",
    "pairing_table = pd.read_csv('train1.lst',delimiter='\\t',names=['image','mask'])\n",
    "pairing_table.head()\n",
    "print(type(pairing_table['image'][0]))"
   ]
  },
  {
   "cell_type": "code",
   "execution_count": 4,
   "metadata": {},
   "outputs": [
    {
     "data": {
      "text/plain": [
       "(9068, 2)"
      ]
     },
     "execution_count": 4,
     "metadata": {},
     "output_type": "execute_result"
    }
   ],
   "source": [
    "pairing_table.shape"
   ]
  },
  {
   "cell_type": "code",
   "execution_count": 5,
   "metadata": {},
   "outputs": [],
   "source": [
    "#visualize the images one by one\n",
    "from PIL import Image\n",
    "\n",
    "def viz_help(path):\n",
    "    img = Image.open(path)\n",
    "    img.show()\n",
    "    \n",
    "def vizs(image_name):\n",
    "    viz_help('/home/vivek/Downloads/kaggle_ndsb2-master/data_segmenter_trainset/'+image_name)\n",
    "\n",
    "vizs('0001_00000sax_12_09899_IM-4567-0012.png')\n"
   ]
  },
  {
   "cell_type": "code",
   "execution_count": 6,
   "metadata": {},
   "outputs": [],
   "source": [
    "image_table = pairing_table\n"
   ]
  },
  {
   "cell_type": "code",
   "execution_count": 7,
   "metadata": {},
   "outputs": [
    {
     "name": "stdout",
     "output_type": "stream",
     "text": [
      "(184, 184, 1)\n",
      "(9068,)\n",
      "(184, 184, 1)\n",
      "(9068,)\n"
     ]
    }
   ],
   "source": [
    "path = '/home/vivek/Downloads/kaggle_ndsb2-master/data_segmenter_trainset/'\n",
    "\n",
    "\n",
    "for ii in range(0,2000):\n",
    "    new_path = os.path.join(path,image_table['image'][ii])\n",
    "    img = Image.open(new_path)\n",
    "    img2 = np.array(img.getdata()).reshape(184, 184, -1)\n",
    "    image_table['image'][ii] = img2\n",
    "    img.close()\n",
    "    \n",
    "    \n",
    "for ii in range(0,2000):\n",
    "    new_path = os.path.join(path,image_table['mask'][ii])\n",
    "    img = Image.open(new_path)\n",
    "    img2 = np.array(img.getdata()).reshape(184, 184, -1)\n",
    "    image_table['mask'][ii] = img2\n",
    "    img.close()\n",
    "    \n",
    "\n",
    "\n",
    "print(image_table['image'][0].shape)\n",
    "print(image_table['image'].shape)\n",
    "print(image_table['mask'][0].shape)\n",
    "print(image_table['mask'].shape)"
   ]
  },
  {
   "cell_type": "code",
   "execution_count": 8,
   "metadata": {},
   "outputs": [
    {
     "name": "stdout",
     "output_type": "stream",
     "text": [
      "<class 'numpy.ndarray'> (2000, 184, 184, 1)\n",
      "<class 'numpy.ndarray'> (2000, 184, 184, 1)\n"
     ]
    }
   ],
   "source": [
    "#convert our data into the proper format to feed into the neural network\n",
    "\n",
    "x = np.stack(image_table['image'][:2000].values)\n",
    "print(type(x),x.shape)\n",
    "\n",
    "y = np.stack(image_table['mask'][:2000].values)\n",
    "print(type(y),y.shape)"
   ]
  },
  {
   "cell_type": "code",
   "execution_count": 9,
   "metadata": {},
   "outputs": [
    {
     "name": "stdout",
     "output_type": "stream",
     "text": [
      "<class 'str'>\n"
     ]
    }
   ],
   "source": [
    "#load in validation table\n",
    "\n",
    "validate_pairing_table = pd.read_csv('validate1.lst',delimiter='\\t',names=['image','mask'])\n",
    "\n",
    "val_image_table = validate_pairing_table"
   ]
  },
  {
   "cell_type": "code",
   "execution_count": 10,
   "metadata": {},
   "outputs": [],
   "source": [
    "for ii in range(0,100):\n",
    "    new_path = os.path.join(path,val_image_table['image'][ii])\n",
    "    img = Image.open(new_path)\n",
    "    img2 = np.array(img.getdata()).reshape(184, 184, -1)\n",
    "    val_image_table['image'][ii] = img2\n",
    "    img.close()\n",
    "    \n",
    "    \n",
    "for ii in range(0,100):\n",
    "    new_path = os.path.join(path,val_image_table['mask'][ii])\n",
    "    img = Image.open(new_path)\n",
    "    img2 = np.array(img.getdata()).reshape(184, 184, -1)\n",
    "    val_image_table['mask'][ii] = img2\n",
    "    img.close()\n",
    "    "
   ]
  },
  {
   "cell_type": "code",
   "execution_count": 11,
   "metadata": {},
   "outputs": [
    {
     "name": "stderr",
     "output_type": "stream",
     "text": [
      "/home/vivek/anaconda3/lib/python3.6/importlib/_bootstrap.py:219: RuntimeWarning: numpy.dtype size changed, may indicate binary incompatibility. Expected 96, got 88\n",
      "  return f(*args, **kwds)\n",
      "/home/vivek/anaconda3/lib/python3.6/importlib/_bootstrap.py:219: RuntimeWarning: numpy.dtype size changed, may indicate binary incompatibility. Expected 96, got 88\n",
      "  return f(*args, **kwds)\n"
     ]
    },
    {
     "name": "stdout",
     "output_type": "stream",
     "text": [
      "(1500, 184, 184, 1) (500, 184, 184, 1)\n"
     ]
    }
   ],
   "source": [
    "from sklearn.model_selection import train_test_split\n",
    "\n",
    "\n",
    "\n",
    "x_train, x_test, y_train, y_test = train_test_split( x,y, random_state = 2018, test_size = 0.25)\n",
    "x_train = np.asarray(x_train)\n",
    "x_test = np.asarray(x_test)\n",
    "y_train = np.asarray(y_train)\n",
    "y_test = np.asarray(y_test)\n",
    "print(x_train.shape, x_test.shape)\n"
   ]
  },
  {
   "cell_type": "code",
   "execution_count": 16,
   "metadata": {},
   "outputs": [
    {
     "name": "stdout",
     "output_type": "stream",
     "text": [
      "<class 'pandas.core.series.Series'>\n"
     ]
    }
   ],
   "source": [
    "#convert into tensor of proper shape\n",
    "print(type(image_table['image'])) "
   ]
  },
  {
   "cell_type": "code",
   "execution_count": 17,
   "metadata": {},
   "outputs": [
    {
     "name": "stderr",
     "output_type": "stream",
     "text": [
      "Using TensorFlow backend.\n",
      "/home/vivek/anaconda3/lib/python3.6/importlib/_bootstrap.py:219: RuntimeWarning: numpy.dtype size changed, may indicate binary incompatibility. Expected 96, got 88\n",
      "  return f(*args, **kwds)\n",
      "/home/vivek/anaconda3/lib/python3.6/importlib/_bootstrap.py:219: RuntimeWarning: numpy.dtype size changed, may indicate binary incompatibility\n",
      "  return f(*args, **kwds)\n"
     ]
    },
    {
     "name": "stdout",
     "output_type": "stream",
     "text": [
      "__________________________________________________________________________________________________\n",
      "Layer (type)                    Output Shape         Param #     Connected to                     \n",
      "==================================================================================================\n",
      "input_1 (InputLayer)            (None, 184, 184, 1)  0                                            \n",
      "__________________________________________________________________________________________________\n",
      "conv2d_1 (Conv2D)               (None, 184, 184, 64) 640         input_1[0][0]                    \n",
      "__________________________________________________________________________________________________\n",
      "conv2d_2 (Conv2D)               (None, 184, 184, 64) 36928       conv2d_1[0][0]                   \n",
      "__________________________________________________________________________________________________\n",
      "max_pooling2d_1 (MaxPooling2D)  (None, 92, 92, 64)   0           conv2d_2[0][0]                   \n",
      "__________________________________________________________________________________________________\n",
      "conv2d_3 (Conv2D)               (None, 92, 92, 128)  73856       max_pooling2d_1[0][0]            \n",
      "__________________________________________________________________________________________________\n",
      "conv2d_4 (Conv2D)               (None, 92, 92, 128)  147584      conv2d_3[0][0]                   \n",
      "__________________________________________________________________________________________________\n",
      "max_pooling2d_2 (MaxPooling2D)  (None, 46, 46, 128)  0           conv2d_4[0][0]                   \n",
      "__________________________________________________________________________________________________\n",
      "conv2d_5 (Conv2D)               (None, 46, 46, 256)  295168      max_pooling2d_2[0][0]            \n",
      "__________________________________________________________________________________________________\n",
      "conv2d_6 (Conv2D)               (None, 46, 46, 256)  590080      conv2d_5[0][0]                   \n",
      "__________________________________________________________________________________________________\n",
      "max_pooling2d_3 (MaxPooling2D)  (None, 23, 23, 256)  0           conv2d_6[0][0]                   \n",
      "__________________________________________________________________________________________________\n",
      "conv2d_7 (Conv2D)               (None, 23, 23, 512)  1180160     max_pooling2d_3[0][0]            \n",
      "__________________________________________________________________________________________________\n",
      "conv2d_8 (Conv2D)               (None, 23, 23, 512)  2359808     conv2d_7[0][0]                   \n",
      "__________________________________________________________________________________________________\n",
      "conv2d_transpose_1 (Conv2DTrans (None, 46, 46, 256)  524544      conv2d_8[0][0]                   \n",
      "__________________________________________________________________________________________________\n",
      "dropout_4 (Dropout)             (None, 46, 46, 256)  0           conv2d_transpose_1[0][0]         \n",
      "__________________________________________________________________________________________________\n",
      "concatenate_1 (Concatenate)     (None, 46, 46, 512)  0           dropout_4[0][0]                  \n",
      "                                                                 conv2d_6[0][0]                   \n",
      "__________________________________________________________________________________________________\n",
      "conv2d_9 (Conv2D)               (None, 46, 46, 256)  1179904     concatenate_1[0][0]              \n",
      "__________________________________________________________________________________________________\n",
      "conv2d_10 (Conv2D)              (None, 46, 46, 256)  590080      conv2d_9[0][0]                   \n",
      "__________________________________________________________________________________________________\n",
      "conv2d_transpose_2 (Conv2DTrans (None, 92, 92, 128)  131200      conv2d_10[0][0]                  \n",
      "__________________________________________________________________________________________________\n",
      "dropout_5 (Dropout)             (None, 92, 92, 128)  0           conv2d_transpose_2[0][0]         \n",
      "__________________________________________________________________________________________________\n",
      "concatenate_2 (Concatenate)     (None, 92, 92, 256)  0           dropout_5[0][0]                  \n",
      "                                                                 conv2d_4[0][0]                   \n",
      "__________________________________________________________________________________________________\n",
      "conv2d_11 (Conv2D)              (None, 92, 92, 128)  295040      concatenate_2[0][0]              \n",
      "__________________________________________________________________________________________________\n",
      "conv2d_12 (Conv2D)              (None, 92, 92, 128)  147584      conv2d_11[0][0]                  \n",
      "__________________________________________________________________________________________________\n",
      "conv2d_transpose_3 (Conv2DTrans (None, 184, 184, 64) 32832       conv2d_12[0][0]                  \n",
      "__________________________________________________________________________________________________\n",
      "dropout_6 (Dropout)             (None, 184, 184, 64) 0           conv2d_transpose_3[0][0]         \n",
      "__________________________________________________________________________________________________\n",
      "conv2d_13 (Conv2D)              (None, 184, 184, 2)  1154        dropout_6[0][0]                  \n",
      "__________________________________________________________________________________________________\n",
      "conv2d_14 (Conv2D)              (None, 184, 184, 1)  3           conv2d_13[0][0]                  \n",
      "==================================================================================================\n",
      "Total params: 7,586,565\n",
      "Trainable params: 7,586,565\n",
      "Non-trainable params: 0\n",
      "__________________________________________________________________________________________________\n"
     ]
    }
   ],
   "source": [
    "#import keras dependencies\n",
    "import keras\n",
    "from keras import Sequential,Model\n",
    "from keras.optimizers import Adam,SGD\n",
    "from keras.layers import Input, Dense, Concatenate, Dropout\n",
    "from keras.layers import Conv2D, MaxPool2D, Activation, UpSampling2D,Conv2DTranspose, concatenate\n",
    "from keras.layers.merge import Concatenate\n",
    "from keras.models import *\n",
    "from keras.layers import *\n",
    "from keras.optimizers import *\n",
    "from keras import backend as keras\n",
    "from keras.callbacks import ModelCheckpoint, LearningRateScheduler\n",
    "import skimage.io as io\n",
    "import skimage.transform as trans\n",
    "from keras import backend as K\n",
    "K.set_image_data_format('channels_last')\n",
    "\n",
    "\n",
    "inputs = Input(shape = (184,184,1))\n",
    "\n",
    "#First Block\n",
    "b1_conv1 = Conv2D(64,(3,3),activation='relu',padding='same',kernel_initializer = 'glorot_normal')(inputs)\n",
    "b1_conv2 = Conv2D(64,(3,3),activation='relu',padding='same',kernel_initializer = 'glorot_normal')(b1_conv1)\n",
    "b1_pool = MaxPool2D((2,2))(b1_conv2)  \n",
    "drop1= Dropout(0.2)(b1_pool)\n",
    "\n",
    "#Second Block\n",
    "b2_conv1 = Conv2D(128,(3,3),activation='relu',padding='same',kernel_initializer = 'glorot_normal')(b1_pool)\n",
    "b2_conv2 = Conv2D(128,(3,3),activation='relu',padding='same')(b2_conv1)\n",
    "b2_pool = MaxPool2D((2,2))(b2_conv2)\n",
    "drop2= Dropout(0.2)(b2_pool)\n",
    "\n",
    "#Third Block\n",
    "b3_conv1 = Conv2D(256,(3,3),activation='relu',padding='same')(b2_pool)\n",
    "b3_conv2 = Conv2D(256,(3,3),activation='relu',padding='same')(b3_conv1)\n",
    "b3_pool = MaxPool2D((2,2))(b3_conv2)\n",
    "drop3= Dropout(0.2)(b3_pool)\n",
    "\n",
    "#Fourth Block\n",
    "b4_conv1 = Conv2D(512,(3,3),activation='relu',padding='same')(b3_pool)\n",
    "b4_conv2 = Conv2D(512,(3,3),activation='relu',padding='same')(b4_conv1)\n",
    "b4_up = Conv2DTranspose(256, (2, 2), strides=(2, 2), padding='same')(b4_conv2)\n",
    "drop4= Dropout(0.2)(b4_up)\n",
    "\n",
    "\n",
    "#Fifth Block\n",
    "b5_concat = concatenate([drop4, b3_conv2], axis=3)\n",
    "b5_conv1 = Conv2D(256,(3,3),activation='relu',padding='same')(b5_concat)\n",
    "b5_conv2 = Conv2D(256,(3,3),activation='relu',padding='same')(b5_conv1)\n",
    "b5_up = Conv2DTranspose(128, (2, 2), strides=(2, 2), padding='same')(b5_conv2)\n",
    "drop5= Dropout(0.2)(b5_up)\n",
    "\n",
    "#Sixth Block\n",
    "b6_concat = concatenate([drop5, b2_conv2], axis=3)\n",
    "b6_conv1 = Conv2D(128,(3,3),activation='relu',padding='same')(b6_concat)\n",
    "b6_conv2 = Conv2D(128,(3,3),activation='relu',padding='same')(b6_conv1)\n",
    "b6_up = Conv2DTranspose(64, (2, 2), strides=(2, 2), padding='same')(b6_conv2)\n",
    "drop6= Dropout(0.2)(b6_up)\n",
    "\n",
    "\n",
    "#Output\n",
    "output_layer1 = Conv2D(2,(3,3),activation='relu',padding='same')(drop6)\n",
    "output_layer = Conv2D(1,(1,1),activation='sigmoid',padding='same')(output_layer1)\n",
    "\n",
    "\n",
    " \n",
    "\n",
    "\n",
    "model = Model(inputs =inputs,outputs=output_layer)\n",
    "model.summary()\n",
    "\n",
    " \n"
   ]
  },
  {
   "cell_type": "code",
   "execution_count": 18,
   "metadata": {},
   "outputs": [],
   "source": [
    "\n",
    "from keras import optimizers\n",
    "\n",
    "\n",
    "\n",
    "\n",
    "smooth = 1.\n",
    "def dice_coef(y_true, y_pred):\n",
    "    y_true_f = K.flatten(y_true)\n",
    "    y_pred_f = K.flatten(y_pred)\n",
    "    intersection = K.sum(y_true_f * y_pred_f)\n",
    "    return (2. * intersection + smooth) / (K.sum(y_true_f) + K.sum(y_pred_f) + smooth)\n",
    "\n",
    "\n",
    "def dice_coef_loss(y_true, y_pred):\n",
    "    return -dice_coef(y_true, y_pred)\n",
    "\n",
    "adam = optimizers.Adam(lr=0.01)\n",
    "\n",
    "model.compile(optimizer=adam, loss=dice_coef_loss, metrics=[dice_coef], loss_weights=None, sample_weight_mode=None, weighted_metrics=None, target_tensors=None)\n",
    "\n"
   ]
  },
  {
   "cell_type": "code",
   "execution_count": 19,
   "metadata": {},
   "outputs": [
    {
     "name": "stdout",
     "output_type": "stream",
     "text": [
      "(2000, 184, 184, 1) (2000, 184, 184, 1)\n"
     ]
    }
   ],
   "source": [
    "print(x.shape,y.shape)"
   ]
  },
  {
   "cell_type": "code",
   "execution_count": 20,
   "metadata": {},
   "outputs": [],
   "source": [
    "import matplotlib.pyplot as plt\n",
    "\n",
    "def plot(history, save_path = None, dpi=600):\n",
    "    plt.figure()\n",
    "    plt.plot(history.history['dice_coef'])\n",
    "    plt.plot(history.history['val_dice_coef'])\n",
    "    plt.title('dice')"
   ]
  },
  {
   "cell_type": "code",
   "execution_count": 21,
   "metadata": {},
   "outputs": [
    {
     "name": "stdout",
     "output_type": "stream",
     "text": [
      "Train on 1200 samples, validate on 300 samples\n",
      "Epoch 1/20\n",
      "1200/1200 [==============================] - 29s 24ms/step - loss: -1.4595 - dice_coef: 1.4595 - val_loss: -1.4376 - val_dice_coef: 1.4376\n",
      "Epoch 2/20\n",
      "1200/1200 [==============================] - 26s 21ms/step - loss: -1.4599 - dice_coef: 1.4599 - val_loss: -1.4376 - val_dice_coef: 1.4376\n",
      "Epoch 3/20\n",
      "1200/1200 [==============================] - 25s 21ms/step - loss: -1.4599 - dice_coef: 1.4599 - val_loss: -1.4376 - val_dice_coef: 1.4376\n",
      "Epoch 4/20\n",
      "1200/1200 [==============================] - 25s 21ms/step - loss: -1.4599 - dice_coef: 1.4599 - val_loss: -1.4376 - val_dice_coef: 1.4376\n",
      "Epoch 5/20\n",
      "1200/1200 [==============================] - 25s 21ms/step - loss: -1.4599 - dice_coef: 1.4599 - val_loss: -1.4376 - val_dice_coef: 1.4376\n",
      "Epoch 6/20\n",
      "1200/1200 [==============================] - 26s 21ms/step - loss: -1.4599 - dice_coef: 1.4599 - val_loss: -1.4376 - val_dice_coef: 1.4376\n",
      "Epoch 7/20\n",
      "1200/1200 [==============================] - 25s 21ms/step - loss: -1.4599 - dice_coef: 1.4599 - val_loss: -1.4376 - val_dice_coef: 1.4376\n",
      "Epoch 8/20\n",
      "1200/1200 [==============================] - 25s 21ms/step - loss: -1.4599 - dice_coef: 1.4599 - val_loss: -1.4376 - val_dice_coef: 1.4376\n",
      "Epoch 9/20\n",
      "1200/1200 [==============================] - 25s 21ms/step - loss: -1.4599 - dice_coef: 1.4599 - val_loss: -1.4376 - val_dice_coef: 1.4376\n",
      "Epoch 10/20\n",
      "1200/1200 [==============================] - 26s 21ms/step - loss: -1.4599 - dice_coef: 1.4599 - val_loss: -1.4376 - val_dice_coef: 1.4376\n",
      "Epoch 11/20\n",
      "1200/1200 [==============================] - 26s 21ms/step - loss: -1.4599 - dice_coef: 1.4599 - val_loss: -1.4376 - val_dice_coef: 1.4376\n",
      "Epoch 12/20\n",
      "1200/1200 [==============================] - 26s 22ms/step - loss: -1.4599 - dice_coef: 1.4599 - val_loss: -1.4376 - val_dice_coef: 1.4376\n",
      "Epoch 13/20\n",
      "1200/1200 [==============================] - 25s 21ms/step - loss: -1.4599 - dice_coef: 1.4599 - val_loss: -1.4376 - val_dice_coef: 1.4376\n",
      "Epoch 14/20\n",
      "1200/1200 [==============================] - 26s 21ms/step - loss: -1.4599 - dice_coef: 1.4599 - val_loss: -1.4376 - val_dice_coef: 1.4376\n",
      "Epoch 15/20\n",
      "1200/1200 [==============================] - 26s 22ms/step - loss: -1.4599 - dice_coef: 1.4599 - val_loss: -1.4376 - val_dice_coef: 1.4376\n",
      "Epoch 16/20\n",
      "1200/1200 [==============================] - 26s 21ms/step - loss: -1.4599 - dice_coef: 1.4599 - val_loss: -1.4376 - val_dice_coef: 1.4376\n",
      "Epoch 17/20\n",
      "1200/1200 [==============================] - 25s 21ms/step - loss: -1.4599 - dice_coef: 1.4599 - val_loss: -1.4376 - val_dice_coef: 1.4376\n",
      "Epoch 18/20\n",
      "1200/1200 [==============================] - 25s 21ms/step - loss: -1.4599 - dice_coef: 1.4599 - val_loss: -1.4376 - val_dice_coef: 1.4376\n",
      "Epoch 19/20\n",
      "1200/1200 [==============================] - 26s 21ms/step - loss: -1.4599 - dice_coef: 1.4599 - val_loss: -1.4376 - val_dice_coef: 1.4376\n",
      "Epoch 20/20\n",
      "1200/1200 [==============================] - 26s 22ms/step - loss: -1.4599 - dice_coef: 1.4599 - val_loss: -1.4376 - val_dice_coef: 1.4376\n"
     ]
    }
   ],
   "source": [
    "history = model.fit(x_train, y_train, epochs=20, batch_size=1, validation_split=0.2, verbose=1)"
   ]
  },
  {
   "cell_type": "code",
   "execution_count": 22,
   "metadata": {},
   "outputs": [
    {
     "data": {
      "image/png": "[encoded data removed]",
      "text/plain": [
       "<Figure size 432x288 with 1 Axes>"
      ]
     },
     "metadata": {},
     "output_type": "display_data"
    }
   ],
   "source": [
    "plot(history)"
   ]
  }
 ],
 "metadata": {
  "kernelspec": {
   "display_name": "Python 3",
   "language": "python",
   "name": "python3"
  },
  "language_info": {
   "codemirror_mode": {
    "name": "ipython",
    "version": 3
   },
   "file_extension": ".py",
   "mimetype": "text/x-python",
   "name": "python",
   "nbconvert_exporter": "python",
   "pygments_lexer": "ipython3",
   "version": "3.6.5"
  }
 },
 "nbformat": 4,
 "nbformat_minor": 2
}
